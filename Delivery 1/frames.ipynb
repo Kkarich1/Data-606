{
 "cells": [
  {
   "cell_type": "code",
   "execution_count": 6,
   "metadata": {},
   "outputs": [],
   "source": [
    "#!pip install torch\n",
    "#!pip install moviepy"
   ]
  },
  {
   "cell_type": "code",
   "execution_count": 7,
   "metadata": {},
   "outputs": [],
   "source": [
    "import numpy as np\n",
    "import cv2\n",
    "import os\n",
    "from moviepy.editor import VideoFileClip"
   ]
  },
  {
   "cell_type": "code",
   "execution_count": 8,
   "metadata": {},
   "outputs": [],
   "source": [
    "def load_video(videoname):\n",
    "    return (cv2.VideoCapture(videoname))\n",
    "    "
   ]
  },
  {
   "cell_type": "code",
   "execution_count": 9,
   "metadata": {},
   "outputs": [],
   "source": [
    "def createfolder(foldername):\n",
    "    if not os.path.exists(foldername):\n",
    "        os.makedirs(foldername)"
   ]
  },
  {
   "cell_type": "code",
   "execution_count": 10,
   "metadata": {},
   "outputs": [],
   "source": [
    "def getFrame(vidcap, imageName, path, sec, count):\n",
    "    vidcap.set(cv2.CAP_PROP_POS_MSEC, sec*1000)\n",
    "    hasFrames, image= vidcap.read()\n",
    "    if hasFrames:\n",
    "\n",
    "        cv2.imwrite(os.path.join(path, imageName+'_'+str(count)+'.jpg'), image)\n",
    "    return hasFrames"
   ]
  },
  {
   "cell_type": "code",
   "execution_count": 11,
   "metadata": {},
   "outputs": [],
   "source": [
    "def get_length(video):\n",
    "    clip = VideoFileClip(video)\n",
    "    return clip.duration \n",
    "    "
   ]
  },
  {
   "cell_type": "code",
   "execution_count": 12,
   "metadata": {},
   "outputs": [],
   "source": [
    "def VideoProcessingToFrames(video, imageName):\n",
    "    videocap = load_video(video)\n",
    "    outputfolder = createfolder(imageName)\n",
    "    path=os.path.join(os.getcwd(), imageName)\n",
    "    success = True\n",
    "    sec=0\n",
    "    count=0\n",
    "    framerate=0.1\n",
    "    length = get_length(video)\n",
    "    while sec<length:\n",
    "        success = getFrame(videocap, imageName, path, sec, count)\n",
    "        count+=1\n",
    "        sec += framerate\n",
    "        sec = round(sec,2)\n"
   ]
  },
  {
   "cell_type": "code",
   "execution_count": 7,
   "metadata": {},
   "outputs": [],
   "source": [
    "VideoProcessingToFrames('open01.mp4', 'open')"
   ]
  },
  {
   "cell_type": "code",
   "execution_count": 17,
   "metadata": {},
   "outputs": [
    {
     "data": {
      "text/plain": [
       "'C:\\\\Users\\\\ram_k\\\\Desktop\\\\Data 606'"
      ]
     },
     "execution_count": 17,
     "metadata": {},
     "output_type": "execute_result"
    }
   ],
   "source": [
    "os.getcwd()"
   ]
  },
  {
   "cell_type": "code",
   "execution_count": null,
   "metadata": {},
   "outputs": [],
   "source": []
  }
 ],
 "metadata": {
  "kernelspec": {
   "display_name": "Python 3",
   "language": "python",
   "name": "python3"
  },
  "language_info": {
   "codemirror_mode": {
    "name": "ipython",
    "version": 3
   },
   "file_extension": ".py",
   "mimetype": "text/x-python",
   "name": "python",
   "nbconvert_exporter": "python",
   "pygments_lexer": "ipython3",
   "version": "3.6.9"
  }
 },
 "nbformat": 4,
 "nbformat_minor": 4
}
